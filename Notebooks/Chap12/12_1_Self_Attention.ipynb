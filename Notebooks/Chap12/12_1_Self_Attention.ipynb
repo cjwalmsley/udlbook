{
 "nbformat": 4,
 "nbformat_minor": 0,
 "metadata": {
  "colab": {
   "provenance": [],
   "authorship_tag": "ABX9TyOKrX9gmuhl9+KwscpZKr3u",
   "include_colab_link": true
  },
  "kernelspec": {
   "name": "python3",
   "display_name": "Python 3 (ipykernel)",
   "language": "python"
  },
  "language_info": {
   "name": "python"
  }
 },
 "cells": [
  {
   "cell_type": "markdown",
   "metadata": {
    "id": "view-in-github",
    "colab_type": "text"
   },
   "source": [
    "<a href=\"https://colab.research.google.com/github/udlbook/udlbook/blob/main/Notebooks/Chap12/12_1_Self_Attention.ipynb\" target=\"_parent\"><img src=\"https://colab.research.google.com/assets/colab-badge.svg\" alt=\"Open In Colab\"/></a>"
   ]
  },
  {
   "cell_type": "markdown",
   "source": [
    "# **Notebook 12.1: Self Attention**\n",
    "\n",
    "This notebook builds a self-attention mechanism from scratch, as discussed in section 12.2 of the book.\n",
    "\n",
    "Work through the cells below, running each cell in turn. In various places you will see the words \"TO DO\". Follow the instructions at these places and make predictions about what is going to happen or write code to complete the functions.\n",
    "\n",
    "Contact me at udlbookmail@gmail.com if you find any mistakes or have any suggestions.\n",
    "\n"
   ],
   "metadata": {
    "id": "t9vk9Elugvmi"
   }
  },
  {
   "cell_type": "code",
   "source": [
    "import math\n",
    "\n",
    "import numpy as np\n",
    "import matplotlib.pyplot as plt"
   ],
   "metadata": {
    "id": "OLComQyvCIJ7",
    "ExecuteTime": {
     "end_time": "2025-03-18T07:47:18.614758Z",
     "start_time": "2025-03-18T07:47:18.610912Z"
    }
   },
   "outputs": [],
   "execution_count": 10
  },
  {
   "cell_type": "markdown",
   "source": [
    "The self-attention mechanism maps $N$ inputs $\\mathbf{x}_{n}\\in\\mathbb{R}^{D}$ and returns $N$ outputs $\\mathbf{x}'_{n}\\in \\mathbb{R}^{D}$.  \n",
    "\n"
   ],
   "metadata": {
    "id": "9OJkkoNqCVK2"
   }
  },
  {
   "cell_type": "code",
   "source": [
    "# Set seed so we get the same random numbers\n",
    "np.random.seed(3)\n",
    "# Number of inputs\n",
    "N = 3\n",
    "# Number of dimensions of each input\n",
    "D = 4\n",
    "# Create an empty list\n",
    "all_x = []\n",
    "# Create elements x_n and append to list\n",
    "for n in range(N):\n",
    "  all_x.append(np.random.normal(size=(D,1)))\n",
    "# Print out the list\n",
    "print(all_x)\n"
   ],
   "metadata": {
    "id": "oAygJwLiCSri",
    "ExecuteTime": {
     "end_time": "2025-03-18T07:47:18.624995Z",
     "start_time": "2025-03-18T07:47:18.621298Z"
    }
   },
   "outputs": [
    {
     "name": "stdout",
     "output_type": "stream",
     "text": [
      "[array([[ 1.78862847],\n",
      "       [ 0.43650985],\n",
      "       [ 0.09649747],\n",
      "       [-1.8634927 ]]), array([[-0.2773882 ],\n",
      "       [-0.35475898],\n",
      "       [-0.08274148],\n",
      "       [-0.62700068]]), array([[-0.04381817],\n",
      "       [-0.47721803],\n",
      "       [-1.31386475],\n",
      "       [ 0.88462238]])]\n"
     ]
    }
   ],
   "execution_count": 11
  },
  {
   "cell_type": "markdown",
   "source": [
    "We'll also need the weights and biases for the keys, queries, and values (equations 12.2 and 12.4)"
   ],
   "metadata": {
    "id": "W2iHFbtKMaDp"
   }
  },
  {
   "cell_type": "code",
   "source": [
    "# Set seed so we get the same random numbers\n",
    "np.random.seed(0)\n",
    "\n",
    "# Choose random values for the parameters\n",
    "omega_q = np.random.normal(size=(D,D))\n",
    "omega_k = np.random.normal(size=(D,D))\n",
    "omega_v = np.random.normal(size=(D,D))\n",
    "beta_q = np.random.normal(size=(D,1))\n",
    "beta_k = np.random.normal(size=(D,1))\n",
    "beta_v = np.random.normal(size=(D,1))"
   ],
   "metadata": {
    "id": "79TSK7oLMobe",
    "ExecuteTime": {
     "end_time": "2025-03-18T07:47:18.637032Z",
     "start_time": "2025-03-18T07:47:18.634623Z"
    }
   },
   "outputs": [],
   "execution_count": 12
  },
  {
   "cell_type": "markdown",
   "source": [
    "Now let's compute the queries, keys, and values for each input"
   ],
   "metadata": {
    "id": "VxaKQtP3Ng6R"
   }
  },
  {
   "cell_type": "code",
   "source": [
    "# Make three lists to store queries, keys, and values\n",
    "all_queries = []\n",
    "all_keys = []\n",
    "all_values = []\n",
    "# For every input\n",
    "for x in all_x:\n",
    "  # TODO -- compute the keys, queries and values.\n",
    "  # Replace these three lines\n",
    "  #query = np.ones_like(x)\n",
    "  #key = np.ones_like(x)\n",
    "  #value = np.ones_like(x)\n",
    "  query = beta_q + (np.matmul(omega_q, x))\n",
    "  key = beta_k + (np.matmul(omega_k, x))\n",
    "  value = beta_v + (np.matmul(omega_v, x))\n",
    "\n",
    "  all_queries.append(query)\n",
    "  all_keys.append(key)\n",
    "  all_values.append(value)\n",
    "print(np.array(all_values).shape)"
   ],
   "metadata": {
    "id": "TwDK2tfdNmw9",
    "ExecuteTime": {
     "end_time": "2025-03-18T07:47:18.652023Z",
     "start_time": "2025-03-18T07:47:18.649169Z"
    }
   },
   "outputs": [
    {
     "name": "stdout",
     "output_type": "stream",
     "text": [
      "(3, 4, 1)\n"
     ]
    }
   ],
   "execution_count": 13
  },
  {
   "cell_type": "markdown",
   "source": [
    "We'll need a softmax function (equation 12.5) -- here, it will take a list of arbitrary numbers and return a list where the elements are non-negative and sum to one\n"
   ],
   "metadata": {
    "id": "Se7DK6PGPSUk"
   }
  },
  {
   "cell_type": "code",
   "source": [
    "def softmax(items_in):\n",
    "\n",
    "  from functools import reduce\n",
    "  import math\n",
    "\n",
    "  # TODO Compute the elements of items_out\n",
    "  # Replace this line\n",
    "  #items_out = items_in.copy()\n",
    "  denominator = reduce(lambda acc, item: acc + math.exp(item), items_in,0)\n",
    "  items_out = [math.exp(item) / denominator for item in items_in]\n",
    "\n",
    "  return np.array(items_out)"
   ],
   "metadata": {
    "id": "u93LIcE5PoiM",
    "ExecuteTime": {
     "end_time": "2025-03-18T07:47:18.678430Z",
     "start_time": "2025-03-18T07:47:18.676058Z"
    }
   },
   "outputs": [],
   "execution_count": 14
  },
  {
   "cell_type": "markdown",
   "source": "Now compute the self attention values:",
   "metadata": {
    "id": "8aJVhbKDW7lm"
   }
  },
  {
   "cell_type": "code",
   "source": [
    "# Create emptymlist for output\n",
    "all_x_prime = []\n",
    "# For each output\n",
    "for n in range(N):\n",
    "  # Create list for dot products of query N with all keys\n",
    "  all_km_qn = []\n",
    "  # Compute the dot products\n",
    "  for key in all_keys:\n",
    "    # TODO -- compute the appropriate dot product\n",
    "    # Replace this line\n",
    "    #dot_product = 1\n",
    "    qn = all_queries[n]\n",
    "    dot_product = np.dot(key.transpose(), qn)\n",
    "    # Store dot product\n",
    "    all_km_qn.append(dot_product)\n",
    "\n",
    "  # Compute dot product\n",
    "  attention = softmax(all_km_qn)\n",
    "  # Print result (should be positive sum to one)\n",
    "  print(\"Attentions for output \", n)\n",
    "  print(attention)\n",
    "\n",
    "  # TODO: Compute a weighted sum of all of the values according to the attention\n",
    "  # (equation 12.3)\n",
    "  # Replace this line\n",
    "  #x_prime = np.zeros((D,1))\n",
    "  x_prime = np.matmul(np.array(all_values).transpose(), attention)\n",
    "  all_x_prime.append(x_prime)\n",
    "\n",
    "\n",
    "# Print out true values to check you have it correct\n",
    "print(\"x_prime_0_calculated:\", all_x_prime[0].transpose())\n",
    "print(\"x_prime_0_true: [[ 0.94744244 -0.24348429 -0.91310441 -0.44522983]]\")\n",
    "print(\"x_prime_1_calculated:\", all_x_prime[1].transpose())\n",
    "print(\"x_prime_1_true: [[ 1.64201168 -0.08470004  4.02764044  2.18690791]]\")\n",
    "print(\"x_prime_2_calculated:\", all_x_prime[2].transpose())\n",
    "print(\"x_prime_2_true: [[ 1.61949281 -0.06641533  3.96863308  2.15858316]]\")\n"
   ],
   "metadata": {
    "id": "yimz-5nCW6vQ",
    "ExecuteTime": {
     "end_time": "2025-03-18T07:47:18.705157Z",
     "start_time": "2025-03-18T07:47:18.700944Z"
    }
   },
   "outputs": [
    {
     "name": "stdout",
     "output_type": "stream",
     "text": [
      "Attentions for output  0\n",
      "[1.24326146e-13 9.98281489e-01 1.71851130e-03]\n",
      "Attentions for output  1\n",
      "[2.79525306e-12 5.85506360e-03 9.94144936e-01]\n",
      "Attentions for output  2\n",
      "[0.00505708 0.00654776 0.98839516]\n",
      "x_prime_0_calculated: [[ 0.94744244]\n",
      " [-0.24348429]\n",
      " [-0.91310441]\n",
      " [-0.44522983]]\n",
      "x_prime_0_true: [[ 0.94744244 -0.24348429 -0.91310441 -0.44522983]]\n",
      "x_prime_1_calculated: [[ 1.64201168]\n",
      " [-0.08470004]\n",
      " [ 4.02764044]\n",
      " [ 2.18690791]]\n",
      "x_prime_1_true: [[ 1.64201168 -0.08470004  4.02764044  2.18690791]]\n",
      "x_prime_2_calculated: [[ 1.61949281]\n",
      " [-0.06641533]\n",
      " [ 3.96863308]\n",
      " [ 2.15858316]]\n",
      "x_prime_2_true: [[ 1.61949281 -0.06641533  3.96863308  2.15858316]]\n"
     ]
    },
    {
     "name": "stderr",
     "output_type": "stream",
     "text": [
      "/var/folders/cv/z7xz0c3n3nd4c26hj7g01n7w0000gn/T/ipykernel_34596/761054674.py:9: DeprecationWarning: Conversion of an array with ndim > 0 to a scalar is deprecated, and will error in future. Ensure you extract a single element from your array before performing this operation. (Deprecated NumPy 1.25.)\n",
      "  denominator = reduce(lambda acc, item: acc + math.exp(item), items_in,0)\n",
      "/var/folders/cv/z7xz0c3n3nd4c26hj7g01n7w0000gn/T/ipykernel_34596/761054674.py:10: DeprecationWarning: Conversion of an array with ndim > 0 to a scalar is deprecated, and will error in future. Ensure you extract a single element from your array before performing this operation. (Deprecated NumPy 1.25.)\n",
      "  items_out = [math.exp(item) / denominator for item in items_in]\n"
     ]
    }
   ],
   "execution_count": 15
  },
  {
   "cell_type": "markdown",
   "source": [
    "Now let's compute the same thing, but using matrix calculations.  We'll store the $N$ inputs $\\mathbf{x}_{n}\\in\\mathbb{R}^{D}$ in the columns of a $D\\times N$ matrix, using equations 12.6 and 12.7/8.\n",
    "\n",
    "Note:  The book uses column vectors (for compatibility with the rest of the text), but in the wider literature it is more normal to store the inputs in the rows of a matrix;  in this case, the computation is the same, but all the matrices are transposed and the operations proceed in the reverse order."
   ],
   "metadata": {
    "id": "PJ2vCQ_7C38K"
   }
  },
  {
   "cell_type": "code",
   "source": [
    "# Define softmax operation that works independently on each column\n",
    "def softmax_cols(data_in):\n",
    "  # Exponentiate all of the values\n",
    "  exp_values = np.exp(data_in) ;\n",
    "  # Sum over columns\n",
    "  denom = np.sum(exp_values, axis = 0);\n",
    "  # Replicate denominator to N rows\n",
    "  denom = np.matmul(np.ones((data_in.shape[0],1)), denom[np.newaxis,:])\n",
    "  # Compute softmax\n",
    "  softmax = exp_values / denom\n",
    "  # return the answer\n",
    "  return softmax"
   ],
   "metadata": {
    "id": "obaQBdUAMXXv",
    "ExecuteTime": {
     "end_time": "2025-03-18T07:47:18.724430Z",
     "start_time": "2025-03-18T07:47:18.722100Z"
    }
   },
   "outputs": [],
   "execution_count": 16
  },
  {
   "cell_type": "code",
   "source": [
    "#Now let's compute self attention in matrix form\n",
    "def compute_q_k_v(X,omega_v, omega_q, omega_k, beta_v, beta_q, beta_k):\n",
    "  queries_X = np.matmul(beta_q, np.ones((N,1)).transpose()) + np.matmul(omega_q, X)\n",
    "  keys_X = np.matmul(beta_k, np.ones((N,1)).transpose()) + np.matmul(omega_k, X)\n",
    "  values_X = np.matmul(beta_v, np.ones((N,1)).transpose()) + np.matmul(omega_v, X)\n",
    "  return queries_X, keys_X, values_X\n",
    "\n",
    "def compute_dot_products(keys_X, queries_X):\n",
    "    #dot product is key transposed * query\n",
    "    dot_products = np.matmul(keys_X.transpose(), queries_X)\n",
    "    return dot_products\n",
    "\n",
    "def weight_values_by_attention(values_X, dot_products_softmax):\n",
    "    X_prime = np.matmul(values_X, dot_products_softmax)\n",
    "    return X_prime\n",
    "\n",
    "def self_attention(X,omega_v, omega_q, omega_k, beta_v, beta_q, beta_k):\n",
    "\n",
    "  # TODO -- Write this function\n",
    "  # 1. Compute queries, keys, and values\n",
    "  queries_X, keys_X, values_X = compute_q_k_v(X,omega_v, omega_q, omega_k, beta_v, beta_q, beta_k)\n",
    "  #2. Compute dot products\n",
    "  dot_products = compute_dot_products(keys_X, queries_X)\n",
    "  #3. Apply softmax to calculate attentions\n",
    "  dot_products_softmax = softmax_cols(dot_products)\n",
    "  print(\"attention matrix:\\n\" + str(dot_products_softmax))\n",
    "  # 4. Weight values by attentions\n",
    "  X_prime = weight_values_by_attention(values_X, dot_products_softmax)\n",
    "  # Replace this line\n",
    "  #X_prime = np.zeros_like(X)\n",
    "\n",
    "  return X_prime"
   ],
   "metadata": {
    "id": "gb2WvQ3SiH8r",
    "ExecuteTime": {
     "end_time": "2025-03-19T08:01:27.074262Z",
     "start_time": "2025-03-19T08:01:27.070280Z"
    }
   },
   "outputs": [],
   "execution_count": 56
  },
  {
   "cell_type": "code",
   "source": [
    "# Copy data into matrix\n",
    "X = np.zeros((D, N))\n",
    "X[:,0] = np.squeeze(all_x[0])\n",
    "X[:,1] = np.squeeze(all_x[1])\n",
    "X[:,2] = np.squeeze(all_x[2])\n",
    "\n",
    "# Run the self attention mechanism\n",
    "X_prime = self_attention(X,omega_v, omega_q, omega_k, beta_v, beta_q, beta_k)\n",
    "\n",
    "# Print out the results\n",
    "print(X_prime)"
   ],
   "metadata": {
    "id": "MUOJbgJskUpl",
    "ExecuteTime": {
     "end_time": "2025-03-19T08:01:30.382229Z",
     "start_time": "2025-03-19T08:01:30.377595Z"
    }
   },
   "outputs": [
    {
     "name": "stdout",
     "output_type": "stream",
     "text": [
      "attention matrix:\n",
      "[[1.24326146e-13 2.79525306e-12 5.05707907e-03]\n",
      " [9.98281489e-01 5.85506360e-03 6.54776072e-03]\n",
      " [1.71851130e-03 9.94144936e-01 9.88395160e-01]]\n",
      "[[ 0.94744244  1.64201168  1.61949281]\n",
      " [-0.24348429 -0.08470004 -0.06641533]\n",
      " [-0.91310441  4.02764044  3.96863308]\n",
      " [-0.44522983  2.18690791  2.15858316]]\n"
     ]
    }
   ],
   "execution_count": 57
  },
  {
   "cell_type": "markdown",
   "source": [
    "If you did this correctly, the values should be the same as above.\n",
    "\n",
    "TODO:  \n",
    "\n",
    "Print out the attention matrix\n",
    "You will see that the values are quite extreme (one is very close to one and the others are very close to zero.  Now we'll fix this problem by using scaled dot-product attention."
   ],
   "metadata": {
    "id": "as_lRKQFpvz0"
   }
  },
  {
   "cell_type": "code",
   "source": [
    "# Now let's compute self attention in matrix form\n",
    "def scaled_dot_product_self_attention(X,omega_v, omega_q, omega_k, beta_v, beta_q, beta_k):\n",
    "\n",
    "  # TODO -- Write this function\n",
    "  # 1. Compute queries, keys, and values\n",
    "  queries_X, keys_X, values_X = compute_q_k_v(X,omega_v, omega_q, omega_k, beta_v, beta_q, beta_k)\n",
    "  # 2. Compute dot products\n",
    "  dot_products = compute_dot_products(keys_X, queries_X)\n",
    "  # 3. Scale the dot products as in equation 12.9\n",
    "  dot_products_scaled = dot_products / math.sqrt(D)\n",
    "  # 4. Apply softmax to calculate attentions\n",
    "  dot_products_softmax =  softmax_cols(dot_products_scaled)\n",
    "  # 5. Weight values by attentions\n",
    "  X_prime = weight_values_by_attention(values_X, dot_products_softmax)\n",
    "  # Replace this line\n",
    "  #X_prime = np.zeros_like(X);\n",
    "\n",
    "  return X_prime"
   ],
   "metadata": {
    "id": "kLU7PUnnqvIh",
    "ExecuteTime": {
     "end_time": "2025-03-19T08:02:46.822423Z",
     "start_time": "2025-03-19T08:02:46.817708Z"
    }
   },
   "outputs": [],
   "execution_count": 58
  },
  {
   "cell_type": "code",
   "source": [
    "# Run the self attention mechanism\n",
    "X_prime = scaled_dot_product_self_attention(X,omega_v, omega_q, omega_k, beta_v, beta_q, beta_k)\n",
    "\n",
    "# Print out the results\n",
    "print(X_prime)"
   ],
   "metadata": {
    "id": "n18e3XNzmVgL",
    "ExecuteTime": {
     "end_time": "2025-03-19T08:02:50.837166Z",
     "start_time": "2025-03-19T08:02:50.832902Z"
    }
   },
   "outputs": [
    {
     "name": "stdout",
     "output_type": "stream",
     "text": [
      "[[ 0.97411966  1.59622051  1.32638014]\n",
      " [-0.23738409 -0.09516106  0.13062402]\n",
      " [-0.72333202  3.70194096  3.02371664]\n",
      " [-0.34413007  2.01339538  1.6902419 ]]\n"
     ]
    }
   ],
   "execution_count": 59
  },
  {
   "cell_type": "markdown",
   "source": [
    "TODO -- Investigate whether the self-attention mechanism is covariant with respect to permutation.\n",
    "If it is, when we permute the columns of the input matrix $\\mathbf{X}$, the columns of the output matrix $\\mathbf{X}'$ will also be permuted.\n"
   ],
   "metadata": {
    "id": "QDEkIrcgrql-"
   }
  },
  {
   "metadata": {},
   "cell_type": "code",
   "outputs": [],
   "execution_count": null,
   "source": ""
  }
 ]
}
